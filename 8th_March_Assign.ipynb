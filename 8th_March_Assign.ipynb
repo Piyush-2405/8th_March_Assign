{
 "cells": [
  {
   "cell_type": "markdown",
   "id": "63a01805-0301-4d76-8c62-3b1f8919b0d2",
   "metadata": {},
   "source": [
    "Q1. What is the Probability density function?"
   ]
  },
  {
   "cell_type": "markdown",
   "id": "866b6b09-a9e8-4be4-b02e-96a39f0f4ba4",
   "metadata": {},
   "source": [
    "The Probability Density Function (PDF) is a fundamental concept in probability and statistics. It is used to describe the probability distribution of a continuous random variable. In simpler terms, the PDF is a function that helps us understand how likely it is for a continuous random variable to take on a specific value within a certain range.\n",
    "\n",
    "For a continuous random variable X, the PDF is denoted as f(x) and satisfies the following properties:\n",
    "\n",
    "The PDF is non-negative: f(x) ≥ 0 for all x in the range of X.\n",
    "The total area under the PDF curve is equal to 1: ∫f(x) dx = 1, where the integral is taken over the entire range of X.\n",
    "The probability that X lies within a certain interval [a, b] is given by the integral of the PDF over that interval: P(a ≤ X ≤ b) = ∫[a, b] f(x) dx."
   ]
  },
  {
   "cell_type": "markdown",
   "id": "8897ac89-7089-4b71-a829-7988f7b963d8",
   "metadata": {},
   "source": [
    "Q2. What are the types of Probability distribution?"
   ]
  },
  {
   "cell_type": "markdown",
   "id": "4cd91a51-19c5-45fc-8329-2d39d2b985d0",
   "metadata": {},
   "source": [
    "\n",
    "There are several types of probability distributions, each describing the likelihood of different outcomes for random variables. The two main categories of probability distributions are:\n",
    "\n",
    "1.Discrete Probability Distributions:\n",
    "\n",
    "Discrete probability distributions are associated with discrete random variables, which take on a countable set of distinct values. The probability mass function (PMF) is used to describe the probabilities of each specific value. Some common discrete probability distributions include:\n",
    "\n",
    "Bernoulli distribution: Describes a binary random variable that can take only two values (usually 0 and 1) with a fixed probability for success (1) and failure (0).\n",
    "\n",
    "Binomial distribution: Represents the number of successes in a fixed number of independent Bernoulli trials.\n",
    "\n",
    "Poisson distribution: Models the number of events occurring in a fixed interval of time or space when events happen at a constant rate and independently of the time since the last event.\n",
    "\n",
    "2.Continuous Probability Distributions:\n",
    "\n",
    "Continuous probability distributions are associated with continuous random variables, which can take any value within a specific range. The probability density function (PDF) is used to describe the probabilities of different intervals. Some common continuous probability distributions include:\n",
    "\n",
    "Normal (Gaussian) distribution: Probably the most well-known distribution, characterized by its bell-shaped curve, and widely used in various fields due to the Central Limit Theorem.\n",
    "\n",
    "Uniform distribution: Represents a constant probability of observing any value within a specified range.\n",
    "\n",
    "Exponential distribution: Describes the time between events in a Poisson process (a process where events occur continuously and independently at a constant average rate)."
   ]
  },
  {
   "cell_type": "markdown",
   "id": "459f3da7-cebe-4008-b8e8-0991ecfd18c9",
   "metadata": {},
   "source": [
    "Q3. Write a Python function to calculate the probability density function of a normal distribution with\n",
    "given mean and standard deviation at a given point."
   ]
  },
  {
   "cell_type": "code",
   "execution_count": 1,
   "id": "56f80903-1c0f-4721-995a-9cbc5b8aa22b",
   "metadata": {},
   "outputs": [],
   "source": [
    "from scipy.stats import norm\n",
    "\n",
    "def normal_pdf(x, mean, std_dev):\n",
    "    \n",
    "    return norm.pdf(x, loc=mean, scale=std_dev)\n"
   ]
  },
  {
   "cell_type": "code",
   "execution_count": 2,
   "id": "795895eb-0be0-4e44-8555-b98f7a83cc03",
   "metadata": {},
   "outputs": [
    {
     "name": "stdout",
     "output_type": "stream",
     "text": [
      "The PDF value at x=1 is: 0.2420\n"
     ]
    }
   ],
   "source": [
    "mean = 0    \n",
    "std_dev = 1 \n",
    "x = 1       \n",
    "\n",
    "pdf_value = normal_pdf(x, mean, std_dev)\n",
    "print(f\"The PDF value at x={x} is: {pdf_value:.4f}\")\n"
   ]
  },
  {
   "cell_type": "markdown",
   "id": "fb4efce9-a7dd-4fe1-bf63-750668b1f15e",
   "metadata": {},
   "source": [
    "Q4. What are the properties of Binomial distribution? Give two examples of events where binomial\n",
    "distribution can be applied."
   ]
  },
  {
   "cell_type": "markdown",
   "id": "bf680a78-8d23-4865-9a82-daa575fd3440",
   "metadata": {},
   "source": [
    "\n",
    "The Binomial distribution is a discrete probability distribution that arises from a sequence of independent Bernoulli trials. It models the number of successes in a fixed number of independent experiments or trials, where each trial has only two possible outcomes (success or failure), and the probability of success remains constant for each trial. The properties of the Binomial distribution are as follows:\n",
    "\n",
    "1.Discreteness: The Binomial distribution is discrete, as it deals with a fixed number of trials, and the number of successes can only take on non-negative integer values.\n",
    "\n",
    "2.Independent Trials: Each trial must be independent of the others, meaning the outcome of one trial does not influence the outcome of any other trial.\n",
    "\n",
    "3.Fixed Number of Trials: The number of trials is fixed and denoted by 'n'. The distribution calculates the probability of obtaining 'k' successes in these 'n' trials.\n",
    "\n",
    "4.Constant Probability: The probability of success in each trial is represented by 'p', and the probability of failure is 'q = 1 - p'. The probability 'p' remains constant for all trials.\n",
    "\n",
    "5.Probability Mass Function (PMF): The probability mass function of the Binomial distribution gives the probability of getting exactly 'k' successes in 'n' trials and is given by the formula: P(X = k) = (n choose k) * p^k * q^(n-k), where (n choose k) is the binomial coefficient, equal to n! / (k! * (n-k)!).\n",
    "\n",
    "6.Mean and Variance: The mean (expected value) of the Binomial distribution is given by μ = n * p, and the variance is given by σ^2 = n * p * q.\n",
    "\n",
    "Two examples of events where the Binomial distribution can be applied are:\n",
    "\n",
    "1.Coin Flipping: Consider a fair coin (probability of heads, p = 0.5) and flipping it 10 times (n = 10). We can use the Binomial distribution to calculate the probability of getting a specific number of heads (k) in these 10 flips.\n",
    "\n",
    "2.Product Defects: Suppose a manufacturing company produces a large number of products, and the probability of a product being defective is p = 0.03. If they produce 100 products (n = 100), the Binomial distribution can be used to determine the probability of having a certain number of defective products (k) in this batch of 100."
   ]
  },
  {
   "cell_type": "markdown",
   "id": "d092a085-f46d-4b2e-91b0-879e2b1c7fa8",
   "metadata": {},
   "source": [
    "Q5. Generate a random sample of size 1000 from a binomial distribution with probability of success 0.4\n",
    "and plot a histogram of the results using matplotlib."
   ]
  },
  {
   "cell_type": "code",
   "execution_count": 4,
   "id": "8171482e-c31c-4b34-82f0-f83988a59729",
   "metadata": {},
   "outputs": [
    {
     "data": {
      "image/png": "[encoded data removed]",
      "text/plain": [
       "<Figure size 640x480 with 1 Axes>"
      ]
     },
     "metadata": {},
     "output_type": "display_data"
    }
   ],
   "source": [
    "import numpy as np\n",
    "import matplotlib.pyplot as plt\n",
    "\n",
    "def generate_binomial_sample(size, probability):\n",
    "    \n",
    "    return np.random.binomial(1, probability, size)\n",
    "\n",
    "# Set the parameters\n",
    "sample_size = 1000\n",
    "probability_of_success = 0.4\n",
    "\n",
    "# Generate the random sample\n",
    "sample = generate_binomial_sample(sample_size, probability_of_success)\n",
    "\n",
    "# Plot the histogram\n",
    "plt.hist(sample, bins=2, range=(-0.5, 1.5), align='mid', rwidth=0.8)\n",
    "plt.xlabel('Success (1) / Failure (0)')\n",
    "plt.ylabel('Frequency')\n",
    "plt.title(f'Binomial Distribution (n=1, p={probability_of_success}) - Sample Size: {sample_size}')\n",
    "plt.xticks([0, 1], ['Failure', 'Success'])\n",
    "plt.show()\n"
   ]
  },
  {
   "cell_type": "markdown",
   "id": "49ed8aa3-28a0-41ed-8433-fe536151c1d4",
   "metadata": {},
   "source": [
    "Q6. Write a Python function to calculate the cumulative distribution function of a Poisson distribution\n",
    "with given mean at a given point."
   ]
  },
  {
   "cell_type": "code",
   "execution_count": 1,
   "id": "1b5f0bea-ac9c-4d47-9bf9-c29493f8e4be",
   "metadata": {},
   "outputs": [],
   "source": [
    "from scipy.stats import poisson\n",
    "\n",
    "def poisson_cdf(k, mean):\n",
    "    \n",
    "    return poisson.cdf(k, mu=mean)\n"
   ]
  },
  {
   "cell_type": "code",
   "execution_count": 2,
   "id": "7d288176-0e61-4fdb-a540-dab59cda5c57",
   "metadata": {},
   "outputs": [
    {
     "name": "stdout",
     "output_type": "stream",
     "text": [
      "The CDF value at k=4 is: 0.8912\n"
     ]
    }
   ],
   "source": [
    "mean = 2.5  # Mean (λ) of the Poisson distribution\n",
    "k = 4       # Point at which to evaluate the CDF\n",
    "\n",
    "cdf_value = poisson_cdf(k, mean)\n",
    "print(f\"The CDF value at k={k} is: {cdf_value:.4f}\")\n"
   ]
  },
  {
   "cell_type": "markdown",
   "id": "912afdab-3aa9-42fc-878c-1e379b9969f8",
   "metadata": {},
   "source": [
    "Q7. How Binomial distribution different from Poisson distribution?"
   ]
  },
  {
   "cell_type": "markdown",
   "id": "2b9d6b71-1f82-4fe7-bb4e-e8bf7ca08664",
   "metadata": {},
   "source": [
    "The Binomial and Poisson distributions are two distinct probability distributions that are used to model different types of random processes. Here are the key differences between the Binomial and Poisson distributions:\n",
    "\n",
    "1.Nature of Random Process:\n",
    "\n",
    "Binomial Distribution: The Binomial distribution is used to model the number of successes (or failures) in a fixed number of independent Bernoulli trials. Each trial has only two possible outcomes (success or failure), and the probability of success remains constant for all trials.\n",
    "Poisson Distribution: The Poisson distribution, on the other hand, is used to model the number of rare events occurring within a fixed interval of time or space. It applies to situations where events happen independently at a constant average rate, but the number of events in a given interval can vary.\n",
    "\n",
    "2.Number of Trials (or Events):\n",
    "\n",
    "Binomial Distribution: The Binomial distribution requires a fixed number of trials (n), and it calculates the probability of getting a specific number of successes (k) in those n trials.\n",
    "Poisson Distribution: The Poisson distribution does not have a fixed number of trials. It deals with continuous random variables and calculates the probability of getting a specific number of events (k) occurring in a fixed interval.\n",
    "\n",
    "3.Probability of Success:\n",
    "\n",
    "Binomial Distribution: The Binomial distribution assumes a constant probability of success (p) for each trial.\n",
    "Poisson Distribution: The Poisson distribution is characterized by a parameter (λ) representing the average rate of events occurring in the given interval.\n",
    "\n",
    "4.Discrete vs. Continuous:\n",
    "\n",
    "Binomial Distribution: The Binomial distribution is discrete since it deals with a fixed number of trials and counts the number of successes (a discrete random variable).\n",
    "Poisson Distribution: The Poisson distribution is also discrete since it deals with counting the number of events in an interval (a discrete random variable).\n",
    "\n",
    "5.Conditions of Application:\n",
    "\n",
    "Binomial Distribution: The Binomial distribution is applicable when each trial is independent, there are only two possible outcomes (success or failure), and the probability of success remains constant across all trials.\n",
    "Poisson Distribution: The Poisson distribution is suitable for modeling rare events where the average rate of occurrence is known, and events happen independently of each other."
   ]
  },
  {
   "cell_type": "markdown",
   "id": "423cb23a-3d71-43a0-827b-da3e021cb95a",
   "metadata": {},
   "source": [
    "Q8. Generate a random sample of size 1000 from a Poisson distribution with mean 5 and calculate the\n",
    "sample mean and variance."
   ]
  },
  {
   "cell_type": "code",
   "execution_count": 1,
   "id": "f6828bf1-2200-4e60-974d-1d8a2784827b",
   "metadata": {},
   "outputs": [
    {
     "name": "stdout",
     "output_type": "stream",
     "text": [
      "Sample Mean: 4.9670\n",
      "Sample Variance: 5.0950\n"
     ]
    }
   ],
   "source": [
    "import numpy as np\n",
    "\n",
    "def generate_poisson_sample(size, mean):\n",
    "    \"\"\"\n",
    "    Generate a random sample from a Poisson distribution.\n",
    "\n",
    "    Parameters:\n",
    "        size (int): The size of the sample to generate.\n",
    "        mean (float): The mean (λ) of the Poisson distribution.\n",
    "\n",
    "    Returns:\n",
    "        numpy.ndarray: A NumPy array containing the random sample.\n",
    "    \"\"\"\n",
    "    return np.random.poisson(mean, size)\n",
    "\n",
    "# Set the parameters\n",
    "sample_size = 1000\n",
    "mean = 5\n",
    "\n",
    "# Generate the random sample\n",
    "sample = generate_poisson_sample(sample_size, mean)\n",
    "\n",
    "# Calculate the sample mean and variance\n",
    "sample_mean = np.mean(sample)\n",
    "sample_variance = np.var(sample, ddof=1)  # ddof=1 for unbiased sample variance\n",
    "\n",
    "print(f\"Sample Mean: {sample_mean:.4f}\")\n",
    "print(f\"Sample Variance: {sample_variance:.4f}\")\n"
   ]
  },
  {
   "cell_type": "markdown",
   "id": "391a3881-8572-427b-bf1d-3f5e94dc7f10",
   "metadata": {},
   "source": [
    "Q9. How mean and variance are related in Binomial distribution and Poisson distribution?"
   ]
  },
  {
   "cell_type": "markdown",
   "id": "b2f2b57c-2d9e-446d-b7c3-6c4314db6d2e",
   "metadata": {},
   "source": [
    "The mean and variance are related differently in the Binomial distribution and the Poisson distribution.\n",
    "\n",
    "1.Binomial Distribution:\n",
    "\n",
    "Mean: For a binomial distribution, the mean (μ) is calculated as the product of the number of trials (n) and the probability of success in each trial (p). Mathematically, μ = n * p.\n",
    "Variance: The variance (σ^2) of the binomial distribution is given by the product of the number of trials (n), the probability of success (p), and the probability of failure (q = 1 - p). Mathematically, σ^2 = n * p * q.\n",
    "The relationship between the mean and variance in the binomial distribution is directly proportional. As the number of trials (n) increases, the variance also increases. Similarly, if the probability of success (p) increases, the variance also increases. The variance reaches its maximum when p = 0.5 (in this case, q = 0.5), and it decreases as p moves away from 0.5 towards either 0 or 1.\n",
    "\n",
    "2.Poisson Distribution:\n",
    "\n",
    "Mean: In a Poisson distribution, the mean (λ) is equal to both the expected value and the variance. Mathematically, μ = σ^2 = λ.\n",
    "Variance: The variance (σ^2) of the Poisson distribution is also given by the mean (λ).\n",
    "Unlike the binomial distribution, the relationship between the mean and variance in the Poisson distribution is constant. The mean and variance are always equal and are both represented by the parameter λ. As the mean (λ) increases, the distribution becomes more spread out, indicating a higher likelihood of observing events farther away from the mean."
   ]
  },
  {
   "cell_type": "markdown",
   "id": "c98a2f95-b170-4b5c-8f4c-3773e8699e97",
   "metadata": {},
   "source": [
    "Q10. In normal distribution with respect to mean position, where does the least frequent data appear?"
   ]
  },
  {
   "cell_type": "markdown",
   "id": "b19fd8a5-fb8e-44c8-9f83-04b83b4e1660",
   "metadata": {},
   "source": [
    "\n",
    "In a normal distribution, also known as a Gaussian distribution, the data is symmetrically distributed around the mean. The mean of a normal distribution is the central point or the peak of the bell-shaped curve.\n",
    "\n",
    "In this distribution, the least frequent data appears in the tails, which are the regions farthest away from the mean on both sides of the curve. As you move further from the mean in either direction, the data becomes less and less frequent. This is because the probability density decreases rapidly in the tails of the normal distribution.\n",
    "\n",
    "The tails of the normal distribution extend infinitely in both directions, but as the probability density decreases rapidly with increasing distance from the mean, the extreme values become increasingly rare. This is known as the \"thin-tailed\" property of the normal distribution.\n",
    "\n",
    "For example, in a standard normal distribution with a mean of 0 and a standard deviation of 1, the least frequent data would be the values that are farthest away from 0 on both the positive and negative sides, such as -3, -4, 3, or 4 standard deviations from the mean"
   ]
  },
  {
   "cell_type": "code",
   "execution_count": null,
   "id": "e1b03dc4-af13-40a4-a1b6-64da3b582f35",
   "metadata": {},
   "outputs": [],
   "source": []
  }
 ],
 "metadata": {
  "kernelspec": {
   "display_name": "Python 3 (ipykernel)",
   "language": "python",
   "name": "python3"
  },
  "language_info": {
   "codemirror_mode": {
    "name": "ipython",
    "version": 3
   },
   "file_extension": ".py",
   "mimetype": "text/x-python",
   "name": "python",
   "nbconvert_exporter": "python",
   "pygments_lexer": "ipython3",
   "version": "3.10.8"
  }
 },
 "nbformat": 4,
 "nbformat_minor": 5
}
